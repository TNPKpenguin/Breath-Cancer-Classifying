{
  "cells": [
    {
      "cell_type": "code",
      "execution_count": null,
      "metadata": {
        "id": "RdYRSFx5SlOl"
      },
      "outputs": [],
      "source": [
        "import numpy as np\n",
        "import matplotlib.pyplot as plt\n",
        "import os\n",
        "from google.colab import drive\n",
        "from sklearn.model_selection import cross_val_score\n",
        "from sklearn.metrics import confusion_matrix, accuracy_score, precision_score, recall_score\n",
        "import seaborn as sns\n",
        "from sklearn.preprocessing import StandardScaler\n",
        "from tensorflow.keras.layers import Conv2D, MaxPooling2D, LSTM, Dense, Reshape, Flatten, Dropout\n",
        "import tensorflow as tf"
      ]
    },
    {
      "cell_type": "code",
      "execution_count": null,
      "metadata": {
        "id": "Sl8sps4CT4Te"
      },
      "outputs": [],
      "source": [
        "def get_data(filePath):\n",
        "  with open(filePath) as csv_file:\n",
        "    array = np.loadtxt(csv_file, delimiter = \",\")\n",
        "  x = [i[0] for i in array]\n",
        "  y1 = [i[1] for i in array]\n",
        "  y2 = [i[2] for i in array]\n",
        "  y3 = [i[3] for i in array]\n",
        "  y4 = [i[4] for i in array]\n",
        "  y5 = [i[5] for i in array]\n",
        "  r = (len(x)+1)/6\n",
        "  #x_t = x[:int(r)]\n",
        "  i = 0\n",
        "  y1_t = []\n",
        "  y2_t = []\n",
        "  y3_t = []\n",
        "  y4_t = []\n",
        "  y5_t = []\n",
        "  while(i < len(x)):\n",
        "    if (i==0): # ตัด 399 ตัวแรก\n",
        "      y1_t.append(y1[int(i):int(i+r-1)])\n",
        "      y2_t.append(y2[int(i):int(i+r-1)])\n",
        "      y3_t.append(y3[int(i):int(i+r-1)])\n",
        "      y4_t.append(y4[int(i):int(i+r-1)])\n",
        "      y5_t.append(y5[int(i):int(i+r-1)])\n",
        "      i+=(r-1)\n",
        "    else: # ตัดทีละ 400 ตัว ในแต่ละ Temp\n",
        "      y1_t.append(y1[int(i):int(i+r)])\n",
        "      y2_t.append(y2[int(i):int(i+r)])\n",
        "      y3_t.append(y3[int(i):int(i+r)])\n",
        "      y4_t.append(y4[int(i):int(i+r)])\n",
        "      y5_t.append(y5[int(i):int(i+r)])\n",
        "      i+=r\n",
        "  # print(len(y1_t))\n",
        "  y1_t = y1_t[1:]\n",
        "  y2_t = y2_t[1:]\n",
        "  y3_t = y3_t[1:]\n",
        "  y4_t = y4_t[1:]\n",
        "  y5_t = y5_t[1:]\n",
        "  # print(len(y1_t))\n",
        "\n",
        "  return [y1_t, y2_t, y3_t, y4_t, y5_t]"
      ]
    },
    {
      "cell_type": "code",
      "execution_count": null,
      "metadata": {
        "colab": {
          "base_uri": "https://localhost:8080/"
        },
        "id": "7nwwLxz6UALG",
        "outputId": "6e37e754-868f-44a3-9d25-1b4af8eea1bf"
      },
      "outputs": [
        {
          "name": "stdout",
          "output_type": "stream",
          "text": [
            "Mounted at /content/drive\n"
          ]
        }
      ],
      "source": [
        "drive.mount('/content/drive')"
      ]
    },
    {
      "cell_type": "code",
      "execution_count": null,
      "metadata": {
        "colab": {
          "base_uri": "https://localhost:8080/"
        },
        "id": "yo0IB4CCT7am",
        "outputId": "4a5bf517-6657-4962-9c00-492aa5673a32"
      },
      "outputs": [
        {
          "name": "stdout",
          "output_type": "stream",
          "text": [
            "358 , 280\n"
          ]
        }
      ],
      "source": [
        "path_B1 = 'file_path'\n",
        "fNameCn_1 = os.listdir(path_B1)\n",
        "path_N1 = 'file_path'\n",
        "fNameNm_1 = os.listdir(path_N1)\n",
        "print(len(fNameCn_1) , \",\", len(fNameNm_1))"
      ]
    },
    {
      "cell_type": "code",
      "execution_count": null,
      "metadata": {
        "id": "aoERh1IqUvw_"
      },
      "outputs": [],
      "source": [
        "cy_list_ = []\n",
        "for fN in fNameCn_1:\n",
        "  cy_list_.append(get_data(path_B1 + fN))\n",
        "\n",
        "ny_list_ = []\n",
        "for fN in fNameNm_1:\n",
        "  ny_list_.append(get_data(path_N1 + fN))"
      ]
    },
    {
      "cell_type": "code",
      "execution_count": null,
      "metadata": {
        "id": "15DgCVbka91l"
      },
      "outputs": [],
      "source": [
        "cy = int(len(cy_list_)*0.9)\n",
        "ny = int(len(ny_list_)*0.9)\n",
        "\n",
        "cy_list = cy_list_[:cy]\n",
        "cy_test = cy_list_[cy:]\n",
        "\n",
        "ny_list = ny_list_[:ny]\n",
        "ny_test = ny_list_[ny:]"
      ]
    },
    {
      "cell_type": "code",
      "execution_count": null,
      "metadata": {
        "id": "0nToO59L44w6"
      },
      "outputs": [],
      "source": [
        "def plot_imp(y,s, folder_name):\n",
        "  pllt = ['r','g','b','c','m','orange']\n",
        "  ax = 0\n",
        "  fig, axs = plt.subplots(1,5,figsize=(45, 7))\n",
        "  fig.suptitle(s,fontsize=20)\n",
        "  for ysub in y:\n",
        "    i = 0\n",
        "    for yy in ysub:\n",
        "      axs[ax].plot(range(len(yy)),yy,pllt[i])\n",
        "      i+=1\n",
        "    plt.savefig(\"file_path\"+folder_name+\"/\"+\"img\"+str(s)+\"_\"+str(i)+'.jpg')\n",
        "    ax+=1"
      ]
    },
    {
      "cell_type": "code",
      "execution_count": null,
      "metadata": {
        "id": "K2cVf3m_464Z"
      },
      "outputs": [],
      "source": [
        "def Average(lst):\n",
        "    return sum(lst) / len(lst)\n",
        "\n",
        "def Average_p(x,r):\n",
        "  output = []\n",
        "  for i in range(r,len(x)-r):\n",
        "    output.append(Average(x[(i-r):(i+r)]))\n",
        "  return output"
      ]
    },
    {
      "cell_type": "code",
      "execution_count": null,
      "metadata": {
        "id": "ROVc2S194-x_"
      },
      "outputs": [],
      "source": [
        "def average_data(input,avr):\n",
        "  output = []\n",
        "  for row in input:\n",
        "    otemp = []\n",
        "    for sensor in row:\n",
        "      otemp_sensor = []\n",
        "      for termal in sensor:\n",
        "        otemp_sensor.append(Average_p(termal,avr))\n",
        "      otemp.append(otemp_sensor)\n",
        "    output.append(otemp)\n",
        "  return output"
      ]
    },
    {
      "cell_type": "code",
      "execution_count": null,
      "metadata": {
        "id": "E3ExsRpQ5BGA"
      },
      "outputs": [],
      "source": [
        "avr_r = 15\n",
        "avg_ny_list = average_data(ny_list,avr_r)\n",
        "avg_cy_list = average_data(cy_list,avr_r)"
      ]
    },
    {
      "cell_type": "code",
      "execution_count": null,
      "metadata": {
        "colab": {
          "base_uri": "https://localhost:8080/"
        },
        "id": "bt-YzS1S5DVM",
        "outputId": "23cfc61d-b43c-4558-eec6-ec4a58287412"
      },
      "outputs": [
        {
          "name": "stdout",
          "output_type": "stream",
          "text": [
            "Before Average Data : 400\n",
            "After Average Data : 370\n",
            "5\n",
            "5\n",
            "252\n"
          ]
        }
      ],
      "source": [
        "print(\"Before Average Data :\", len(cy_list[0][0][0]))\n",
        "print(\"After Average Data :\",len(avg_cy_list[0][0][0]))\n",
        "print(len(avg_ny_list[0]))\n",
        "print(len(avg_ny_list[0][0]))\n",
        "print(len(avg_ny_list))"
      ]
    },
    {
      "cell_type": "code",
      "execution_count": null,
      "metadata": {
        "colab": {
          "base_uri": "https://localhost:8080/",
          "height": 462
        },
        "id": "7G_sGpks5I1T",
        "outputId": "4524bcec-f288-416b-b5fc-cd140cd6aaa6"
      },
      "outputs": [
        {
          "data": {
            "text/plain": [
              "[<matplotlib.lines.Line2D at 0x7dc261bf5510>]"
            ]
          },
          "execution_count": 12,
          "metadata": {},
          "output_type": "execute_result"
        },
        {
          "data": {
            "image/png": "[encoded data removed]",
            "text/plain": [
              "<Figure size 1500x500 with 2 Axes>"
            ]
          },
          "metadata": {},
          "output_type": "display_data"
        }
      ],
      "source": [
        "nsample_1 = ny_list[0][0][0] + ny_list[0][0][1] +ny_list[0][0][2] +ny_list[0][0][3] + ny_list[0][0][4]\n",
        "nsample_2 = avg_ny_list[0][0][0] + avg_ny_list[0][0][1] + avg_ny_list[0][0][2] + avg_ny_list[0][0][3] + avg_ny_list[0][0][4]\n",
        "\n",
        "fig, axis = plt.subplots(1, 2, figsize=(15, 5))\n",
        "axis[0].plot(nsample_1)\n",
        "axis[1].plot(nsample_2)"
      ]
    },
    {
      "cell_type": "code",
      "execution_count": null,
      "metadata": {
        "id": "js3wW56kkR3-"
      },
      "outputs": [],
      "source": [
        "def StandardNorm(data_inp):\n",
        "  data_shape = np.array(data_inp).shape\n",
        "  reshaped_data = np.array(data_inp).reshape((-1, data_shape[-1]))\n",
        "  # print(reshaped_data.shape)\n",
        "  mean = np.mean(reshaped_data, axis=0)\n",
        "  std = np.std(reshaped_data, axis=0)\n",
        "\n",
        "  normalized_data = (reshaped_data - mean) / std\n",
        "  normalized_data = normalized_data.reshape(data_shape)\n",
        "  return normalized_data\n",
        "\n",
        "avg_cy_list_norm = StandardNorm(avg_cy_list)\n",
        "avg_ny_list_norm = StandardNorm(avg_ny_list)"
      ]
    },
    {
      "cell_type": "code",
      "execution_count": null,
      "metadata": {
        "id": "Nqy0gfDjTRfX"
      },
      "outputs": [],
      "source": [
        "x = np.array(avg_cy_list)\n",
        "\n",
        "for i in range(x.shape[0]):\n",
        "  print(np.mean(x[i][0]))\n",
        "  print(np.mean(x[i][1]))\n",
        "  print(np.mean(x[i][2]))\n",
        "  print(np.mean(x[i][3]))\n",
        "  print(np.mean(x[i][4]))\n",
        "  print(\"--------\")"
      ]
    },
    {
      "cell_type": "code",
      "execution_count": null,
      "metadata": {
        "colab": {
          "base_uri": "https://localhost:8080/"
        },
        "id": "G1YTxqr8DRdB",
        "outputId": "321a994d-fdcf-46bd-cb5c-a369fb9cd2ec"
      },
      "outputs": [
        {
          "name": "stdout",
          "output_type": "stream",
          "text": [
            "252\n",
            "5\n",
            "5\n",
            "370\n"
          ]
        }
      ],
      "source": [
        "print(len(avg_ny_list_norm))\n",
        "print(len(avg_ny_list_norm[0]))\n",
        "print(len(avg_ny_list_norm[0][0]))\n",
        "print(len(avg_ny_list_norm[0][0][0]))"
      ]
    },
    {
      "cell_type": "code",
      "execution_count": null,
      "metadata": {
        "id": "yIctIjXbVmcP"
      },
      "outputs": [],
      "source": [
        "def normalizer(data_inp):\n",
        "  data = []\n",
        "  data_inp = np.array(data_inp)\n",
        "  for n in range(data_inp.shape[0]):\n",
        "    sensor_list = []\n",
        "    for sensor in data_inp[n]:\n",
        "      temp_list = []\n",
        "      for temp in sensor:\n",
        "        data_shape = np.array(sensor).shape\n",
        "\n",
        "        reshaped_data = np.array(sensor).reshape((-1))\n",
        "\n",
        "        mean = np.mean(reshaped_data, axis=0)\n",
        "        std = np.std(reshaped_data, axis=0)\n",
        "\n",
        "        normalized_data = (reshaped_data - mean) / std\n",
        "        normalized_data = normalized_data.reshape(data_shape)\n",
        "        sensor_list.append(normalized_data)\n",
        "      temp_list.append(sensor_list)\n",
        "    data.append(temp_list)\n",
        "  return np.array(data)\n",
        "\n",
        "avg_cy_list_norm = normalizer(avg_cy_list)\n",
        "avg_ny_list_norm = normalizer(avg_ny_list)"
      ]
    },
    {
      "cell_type": "code",
      "execution_count": null,
      "metadata": {
        "id": "63-DQnVN8H96"
      },
      "outputs": [],
      "source": [
        "def normalizer(data_inp):\n",
        "  data = []\n",
        "  data_inp = np.array(data_inp)\n",
        "  for n in range(data_inp.shape[0]):\n",
        "    sensor_list = []\n",
        "    for sensor in data_inp[n]:\n",
        "      data_shape = np.array(sensor).shape\n",
        "\n",
        "      reshaped_data = np.array(sensor).reshape((-1))\n",
        "\n",
        "      mean = np.mean(reshaped_data, axis=0)\n",
        "      std = np.std(reshaped_data, axis=0)\n",
        "\n",
        "      normalized_data = (reshaped_data - mean) / std\n",
        "      normalized_data = normalized_data.reshape(data_shape)\n",
        "      sensor_list.append(normalized_data)\n",
        "    data.append(sensor_list)\n",
        "  return np.array(data)\n",
        "\n",
        "avg_cy_list_norm = normalizer(avg_cy_list)\n",
        "avg_ny_list_norm = normalizer(avg_ny_list)"
      ]
    },
    {
      "cell_type": "code",
      "execution_count": null,
      "metadata": {
        "colab": {
          "base_uri": "https://localhost:8080/"
        },
        "id": "YLUBzauPLypw",
        "outputId": "699a9722-a8b3-4075-d106-6432c980c7e9"
      },
      "outputs": [
        {
          "name": "stdout",
          "output_type": "stream",
          "text": [
            "(322, 5, 5, 370)\n",
            "(252, 5, 5, 370)\n"
          ]
        }
      ],
      "source": [
        "print(avg_cy_list_norm.shape)\n",
        "print(avg_ny_list_norm.shape)\n",
        "# print(avg_ny_list_norm[0][0][0])"
      ]
    },
    {
      "cell_type": "code",
      "execution_count": null,
      "metadata": {
        "colab": {
          "base_uri": "https://localhost:8080/"
        },
        "id": "KydRXUzD6dAD",
        "outputId": "6817f2bb-e7f8-4a55-c8d7-2ebfec5d73bd"
      },
      "outputs": [
        {
          "name": "stdout",
          "output_type": "stream",
          "text": [
            "(574, 5, 5, 370)\n"
          ]
        }
      ],
      "source": [
        "allData = np.concatenate((avg_cy_list_norm,avg_ny_list_norm), axis=0)\n",
        "print(allData.shape)"
      ]
    },
    {
      "cell_type": "code",
      "execution_count": null,
      "metadata": {
        "id": "K37JXCmI6j3l"
      },
      "outputs": [],
      "source": [
        "label = [] #0: Normal, 1: Cancer\n",
        "for i in range(len(avg_ny_list_norm)):\n",
        "    label.append(0)\n",
        "\n",
        "for j in range(len(avg_cy_list_norm)):\n",
        "    label.append(1)"
      ]
    },
    {
      "cell_type": "code",
      "execution_count": null,
      "metadata": {
        "id": "WOo_5T7x6nLQ"
      },
      "outputs": [],
      "source": [
        "import tensorflow as tf\n",
        "from keras import layers, models\n",
        "import matplotlib.pyplot as plt\n",
        "from sklearn.model_selection import train_test_split"
      ]
    },
    {
      "cell_type": "markdown",
      "metadata": {
        "id": "P0fVfPUFb9pL"
      },
      "source": [
        "to nn"
      ]
    },
    {
      "cell_type": "code",
      "execution_count": null,
      "metadata": {
        "colab": {
          "base_uri": "https://localhost:8080/"
        },
        "id": "Dwdb_W3F8VTP",
        "outputId": "aadc2a2d-9c42-4988-d9ee-304f88ee9ef7"
      },
      "outputs": [
        {
          "name": "stdout",
          "output_type": "stream",
          "text": [
            "574\n",
            "9250\n"
          ]
        }
      ],
      "source": [
        "def prepareData(allData):\n",
        "    temp0 = []\n",
        "    for i in range(len(allData)):\n",
        "        temp1 = []\n",
        "        for j in range(len(allData[i])):\n",
        "            temp2 = []\n",
        "            for k in range(len(allData[i][j])):\n",
        "                temp3 = []\n",
        "                for l in range(len(allData[i][j][k])):\n",
        "                    temp3.append(np.array(allData[i][j][k][l]).flatten().tolist())\n",
        "                temp2.append(np.array(temp3).flatten().tolist())\n",
        "            temp1.append(np.array(temp2).flatten())\n",
        "        temp0.append(np.array(temp1).flatten())\n",
        "    return temp0\n",
        "\n",
        "data = prepareData(allData)\n",
        "print(len(data))\n",
        "print(len(data[0]))"
      ]
    },
    {
      "cell_type": "markdown",
      "metadata": {
        "id": "xLn5BeP_b74q"
      },
      "source": [
        "to cnn"
      ]
    },
    {
      "cell_type": "code",
      "execution_count": null,
      "metadata": {
        "colab": {
          "base_uri": "https://localhost:8080/"
        },
        "id": "VXL6nqmBSNxn",
        "outputId": "a041352e-9253-4caa-ee2b-3def2c76fb97"
      },
      "outputs": [
        {
          "name": "stdout",
          "output_type": "stream",
          "text": [
            "574\n",
            "5\n",
            "5\n",
            "370\n"
          ]
        }
      ],
      "source": [
        "def prepareData(allData):\n",
        "    temp0 = []\n",
        "    for i in range(len(allData)):\n",
        "        temp1 = []\n",
        "        for j in range(len(allData[i])):\n",
        "            temp2 = []\n",
        "            for k in range(len(allData[i][j])):\n",
        "                temp3 = []\n",
        "                for l in range(len(allData[i][j][k])):\n",
        "                    temp3.append(np.array(allData[i][j][k][l]).flatten().tolist())\n",
        "                temp2.append(np.array(temp3).flatten().tolist())\n",
        "            temp1.append(temp2)\n",
        "        temp0.append(temp1)\n",
        "    return temp0\n",
        "\n",
        "data = prepareData(allData)\n",
        "print(len(data))\n",
        "print(len(data[0]))\n",
        "print(len(data[0][0]))\n",
        "print(len(data[0][0][4]))"
      ]
    },
    {
      "cell_type": "code",
      "execution_count": null,
      "metadata": {
        "id": "vPugijMZ9_wi"
      },
      "outputs": [],
      "source": [
        "data = np.array(data)\n",
        "# for i in range(len(data)):\n",
        "#   data[i].reshape(data.shape[1], 1)"
      ]
    },
    {
      "cell_type": "code",
      "execution_count": null,
      "metadata": {
        "id": "wzA9kXJ1yIXf"
      },
      "outputs": [],
      "source": [
        "data_T = np.transpose(data, (0, 3, 1, 2))"
      ]
    },
    {
      "cell_type": "code",
      "execution_count": null,
      "metadata": {
        "colab": {
          "base_uri": "https://localhost:8080/"
        },
        "id": "s4xTDSDByO5Q",
        "outputId": "0ea081a8-d5ba-4ed2-88ba-8d22aa08d6b3"
      },
      "outputs": [
        {
          "data": {
            "text/plain": [
              "(574, 370, 5, 5)"
            ]
          },
          "execution_count": 34,
          "metadata": {},
          "output_type": "execute_result"
        }
      ],
      "source": [
        "data_T.shape"
      ]
    },
    {
      "cell_type": "code",
      "execution_count": null,
      "metadata": {
        "id": "F1jnMszcbFn_"
      },
      "outputs": [],
      "source": [
        "data_T_reshape = data_T.reshape(638, 5, 5, 370, 1)"
      ]
    },
    {
      "cell_type": "code",
      "execution_count": null,
      "metadata": {
        "colab": {
          "base_uri": "https://localhost:8080/"
        },
        "id": "Aj-nPbHeJI13",
        "outputId": "f1873f87-c7e8-404e-99ff-d0e63f6f3ecf"
      },
      "outputs": [
        {
          "name": "stdout",
          "output_type": "stream",
          "text": [
            "(459, 5, 5, 370)\n"
          ]
        }
      ],
      "source": [
        "X_train, X_test, y_train, y_test = train_test_split(data, label, test_size=0.2)\n",
        "X_train = np.array(X_train)\n",
        "X_test = np.array(X_test)\n",
        "y_train = np.array(y_train)\n",
        "y_test = np.array(y_test)\n",
        "\n",
        "print(X_train.shape)"
      ]
    },
    {
      "cell_type": "code",
      "execution_count": null,
      "metadata": {
        "id": "NwzlziLZLEqL"
      },
      "outputs": [],
      "source": [
        "y_train = np.array(y_train)\n",
        "y_test = np.array(y_test)"
      ]
    },
    {
      "cell_type": "code",
      "execution_count": null,
      "metadata": {
        "colab": {
          "base_uri": "https://localhost:8080/"
        },
        "id": "1m1LjBtRLow1",
        "outputId": "262b42b1-8041-4f85-d8c4-b04c203f16bc"
      },
      "outputs": [
        {
          "name": "stdout",
          "output_type": "stream",
          "text": [
            "(459, 1, 9250) (115, 1, 9250) (459, 1) (115, 1)\n"
          ]
        }
      ],
      "source": [
        "X_train = X_train.reshape(X_train.shape[0], 1, 9250)\n",
        "X_test = X_test.reshape(X_test.shape[0], 1, 9250)\n",
        "y_train = y_train.reshape(y_train.shape[0], 1)\n",
        "y_test = y_test.reshape(y_test.shape[0], 1)\n",
        "\n",
        "print(X_train.shape, X_test.shape, y_train.shape, y_test.shape)"
      ]
    },
    {
      "cell_type": "markdown",
      "metadata": {
        "id": "Ci2pj6rSIstJ"
      },
      "source": [
        "From book"
      ]
    },
    {
      "cell_type": "code",
      "execution_count": null,
      "metadata": {
        "colab": {
          "base_uri": "https://localhost:8080/"
        },
        "id": "C4IH-UlAFYbZ",
        "outputId": "d37f082d-2d62-49d7-ec22-71bc768132a6"
      },
      "outputs": [
        {
          "name": "stdout",
          "output_type": "stream",
          "text": [
            "(600, 30, 9250)\n",
            "(600, 5, 9250)\n"
          ]
        }
      ],
      "source": [
        "l = 30\n",
        "m = 3\n",
        "n = 5\n",
        "\n",
        "N = data.shape[0]\n",
        "k = N - (l + m + n)\n",
        "\n",
        "in_slide = np.array([range(i, i+l) for i in range(k)])\n",
        "op_slice = np.array([range(i + l + m, i + l + m + n) for i in range(k)])\n",
        "\n",
        "in_data = data[in_slide,:]\n",
        "print(in_data.shape)\n",
        "out_data = data[op_slice,:]\n",
        "print(out_data.shape)"
      ]
    },
    {
      "cell_type": "code",
      "execution_count": null,
      "metadata": {
        "id": "6JvLVVXwCPnD"
      },
      "outputs": [],
      "source": [
        "model = tf.keras.Sequential()\n",
        "model.add(tf.keras.layers.LSTM(128, input_shape=(1, 9250), activation=\"tanh\", return_sequences=True))\n",
        "model.add(tf.keras.layers.LSTM(128, activation=\"tanh\", return_sequences=True))\n",
        "model.add(tf.keras.layers.LSTM(128, activation=\"tanh\"))\n",
        "model.add(tf.keras.layers.Dense(1))\n",
        "\n",
        "model.compile(loss=\"binary_crossentropy\", optimizer=\"adam\", metrics=[\"accuracy\"])\n",
        "model.summary()"
      ]
    },
    {
      "cell_type": "code",
      "execution_count": null,
      "metadata": {
        "colab": {
          "base_uri": "https://localhost:8080/"
        },
        "id": "Ct75RtqeVMPx",
        "outputId": "0a87bf49-83b4-4d71-9b70-6e025d6dfa7a"
      },
      "outputs": [
        {
          "name": "stdout",
          "output_type": "stream",
          "text": [
            "(574, 5, 5, 370, 1)\n"
          ]
        }
      ],
      "source": [
        "print(X_train.shape)"
      ]
    },
    {
      "cell_type": "code",
      "execution_count": null,
      "metadata": {
        "id": "R9R8XzFxSRbB"
      },
      "outputs": [],
      "source": [
        "import tensorflow as tf\n",
        "\n",
        "ann = tf.keras.models.Sequential()\n",
        "\n",
        "ann.add(tf.keras.layers.Conv3D(32, (3, 3, 3), activation='relu', input_shape=(5, 5, 370, 1)))\n",
        "ann.add(tf.keras.layers.MaxPooling3D((2, 2, 2)))\n",
        "ann.add(tf.keras.layers.Flatten())\n",
        "\n",
        "time_steps = 1\n",
        "features = 5888\n",
        "ann.add(tf.keras.layers.Reshape((time_steps, features)))\n",
        "\n",
        "ann.add(tf.keras.layers.LSTM(100, input_shape=(time_steps, features)))\n",
        "# ann.add(tf.keras.layers.Dense(units=256, activation='sigmoid'))\n",
        "# ann.add(tf.keras.layers.Dropout(0.1))\n",
        "ann.add(tf.keras.layers.Dense(units=128, activation='sigmoid'))\n",
        "ann.add(tf.keras.layers.Dropout(0.5))\n",
        "ann.add(tf.keras.layers.Dense(units=64, activation='sigmoid'))\n",
        "ann.add(tf.keras.layers.Dropout(0.5))\n",
        "ann.add(tf.keras.layers.Dense(units=32, activation='sigmoid'))\n",
        "ann.add(tf.keras.layers.Dropout(0.5))\n",
        "ann.add(tf.keras.layers.Dense(units=1, activation='sigmoid'))\n",
        "\n",
        "# ann.compile(optimizer='adam', loss='binary_crossentropy', metrics=['accuracy'])\n",
        "# ann.summary()"
      ]
    },
    {
      "cell_type": "code",
      "execution_count": null,
      "metadata": {
        "id": "lNDDIRiCQjI5"
      },
      "outputs": [],
      "source": [
        "import tensorflow as tf\n",
        "\n",
        "ann = tf.keras.models.Sequential()\n",
        "\n",
        "ann.add(tf.keras.layers.Conv2D(32, (3, 3), activation='relu', input_shape=(5, 5, 370)))\n",
        "ann.add(tf.keras.layers.MaxPooling2D((2, 2)))\n",
        "ann.add(tf.keras.layers.Flatten())\n",
        "\n",
        "time_steps = 1\n",
        "features = 32\n",
        "ann.add(tf.keras.layers.Reshape((time_steps, features)))\n",
        "\n",
        "ann.add(tf.keras.layers.LSTM(100, input_shape=(time_steps, features)))\n",
        "# ann.add(tf.keras.layers.Dense(units=256, activation='sigmoid'))\n",
        "# # ann.add(tf.keras.layers.Dropout(0.1))\n",
        "ann.add(tf.keras.layers.Dense(units=128, activation='sigmoid'))\n",
        "ann.add(tf.keras.layers.Dropout(0.3))\n",
        "ann.add(tf.keras.layers.Dense(units=64, activation='sigmoid'))\n",
        "ann.add(tf.keras.layers.Dropout(0.3))\n",
        "ann.add(tf.keras.layers.Dense(units=32, activation='sigmoid'))\n",
        "ann.add(tf.keras.layers.Dropout(0.5))\n",
        "ann.add(tf.keras.layers.Dense(units=1, activation='sigmoid'))\n",
        "\n",
        "# ann.compile(optimizer='adam', loss='binary_crossentropy', metrics=['accuracy'])\n",
        "# ann.summary()"
      ]
    },
    {
      "cell_type": "code",
      "execution_count": null,
      "metadata": {
        "colab": {
          "base_uri": "https://localhost:8080/"
        },
        "id": "4Xv_YrcKCTc6",
        "outputId": "0d7f6859-0f8d-4d66-df2d-acca37de98d5"
      },
      "outputs": [
        {
          "name": "stdout",
          "output_type": "stream",
          "text": [
            "Epoch 1/100\n",
            "115/115 [==============================] - 4s 10ms/step - loss: 0.7420 - accuracy: 0.4880 - val_loss: 0.6898 - val_accuracy: 0.5739\n",
            "Epoch 2/100\n",
            "115/115 [==============================] - 1s 6ms/step - loss: 0.6944 - accuracy: 0.5643 - val_loss: 0.6460 - val_accuracy: 0.7130\n",
            "Epoch 3/100\n",
            "115/115 [==============================] - 1s 7ms/step - loss: 0.6644 - accuracy: 0.6209 - val_loss: 0.5819 - val_accuracy: 0.7304\n",
            "Epoch 4/100\n",
            "115/115 [==============================] - 1s 7ms/step - loss: 0.6403 - accuracy: 0.6471 - val_loss: 0.5578 - val_accuracy: 0.7130\n",
            "Epoch 5/100\n",
            "115/115 [==============================] - 1s 9ms/step - loss: 0.6055 - accuracy: 0.6710 - val_loss: 0.5587 - val_accuracy: 0.6783\n",
            "Epoch 6/100\n",
            "115/115 [==============================] - 1s 9ms/step - loss: 0.6052 - accuracy: 0.6754 - val_loss: 0.5246 - val_accuracy: 0.7391\n",
            "Epoch 7/100\n",
            "115/115 [==============================] - 1s 11ms/step - loss: 0.5637 - accuracy: 0.7102 - val_loss: 0.5104 - val_accuracy: 0.7391\n",
            "Epoch 8/100\n",
            "115/115 [==============================] - 1s 11ms/step - loss: 0.5480 - accuracy: 0.7168 - val_loss: 0.4894 - val_accuracy: 0.7304\n",
            "Epoch 9/100\n",
            "115/115 [==============================] - 1s 10ms/step - loss: 0.5089 - accuracy: 0.7647 - val_loss: 0.4556 - val_accuracy: 0.7565\n",
            "Epoch 10/100\n",
            "115/115 [==============================] - 1s 11ms/step - loss: 0.4846 - accuracy: 0.7778 - val_loss: 0.4294 - val_accuracy: 0.8000\n",
            "Epoch 11/100\n",
            "115/115 [==============================] - 1s 10ms/step - loss: 0.4937 - accuracy: 0.7800 - val_loss: 0.4442 - val_accuracy: 0.7652\n",
            "Epoch 12/100\n",
            "115/115 [==============================] - 1s 10ms/step - loss: 0.4606 - accuracy: 0.7843 - val_loss: 0.4395 - val_accuracy: 0.8087\n",
            "Epoch 13/100\n",
            "115/115 [==============================] - 1s 9ms/step - loss: 0.4580 - accuracy: 0.7952 - val_loss: 0.3712 - val_accuracy: 0.8348\n",
            "Epoch 14/100\n",
            "115/115 [==============================] - 1s 8ms/step - loss: 0.4812 - accuracy: 0.7908 - val_loss: 0.3961 - val_accuracy: 0.8000\n",
            "Epoch 15/100\n",
            "115/115 [==============================] - 1s 6ms/step - loss: 0.4127 - accuracy: 0.8301 - val_loss: 0.3557 - val_accuracy: 0.8435\n",
            "Epoch 16/100\n",
            "115/115 [==============================] - 1s 7ms/step - loss: 0.4140 - accuracy: 0.8192 - val_loss: 0.4115 - val_accuracy: 0.8348\n",
            "Epoch 17/100\n",
            "115/115 [==============================] - 1s 6ms/step - loss: 0.4526 - accuracy: 0.8279 - val_loss: 0.5681 - val_accuracy: 0.7130\n",
            "Epoch 18/100\n",
            "115/115 [==============================] - 1s 6ms/step - loss: 0.4424 - accuracy: 0.8192 - val_loss: 0.3385 - val_accuracy: 0.8696\n"
          ]
        }
      ],
      "source": [
        "callback = tf.keras.callbacks.EarlyStopping(monitor='loss', patience=3)\n",
        "ann.compile(optimizer = tf.keras.optimizers.Adam(learning_rate=0.001), loss = 'BinaryCrossentropy', metrics = ['accuracy'])\n",
        "history = ann.fit(X_train, y_train, batch_size = 4 ,callbacks = [callback], epochs = 100, validation_data=(X_test, y_test))"
      ]
    },
    {
      "cell_type": "code",
      "execution_count": null,
      "metadata": {
        "id": "T1sR4fHmCsVZ"
      },
      "outputs": [],
      "source": [
        "history = ann.fit(X_train, y_train, epochs=10, batch_size=4, validation_data=[X_test, y_test])"
      ]
    },
    {
      "cell_type": "code",
      "execution_count": null,
      "metadata": {
        "colab": {
          "base_uri": "https://localhost:8080/"
        },
        "id": "XOuVJlXRJekX",
        "outputId": "7e3914b4-b74d-486f-dbe0-9c6d1035384d"
      },
      "outputs": [
        {
          "name": "stdout",
          "output_type": "stream",
          "text": [
            "Epoch 1/100\n",
            "115/115 [==============================] - 8s 12ms/step - loss: 0.7628 - accuracy: 0.5054 - val_loss: 0.6687 - val_accuracy: 0.6000\n",
            "Epoch 2/100\n",
            "115/115 [==============================] - 1s 9ms/step - loss: 0.6992 - accuracy: 0.5599 - val_loss: 0.6117 - val_accuracy: 0.6957\n",
            "Epoch 3/100\n",
            "115/115 [==============================] - 1s 9ms/step - loss: 0.6272 - accuracy: 0.6362 - val_loss: 0.5963 - val_accuracy: 0.6783\n",
            "Epoch 4/100\n",
            "115/115 [==============================] - 2s 15ms/step - loss: 0.5891 - accuracy: 0.6885 - val_loss: 0.5645 - val_accuracy: 0.6522\n",
            "Epoch 5/100\n",
            "115/115 [==============================] - 1s 12ms/step - loss: 0.5381 - accuracy: 0.7255 - val_loss: 0.5438 - val_accuracy: 0.7391\n",
            "Epoch 6/100\n",
            "115/115 [==============================] - 1s 12ms/step - loss: 0.4816 - accuracy: 0.7865 - val_loss: 0.5020 - val_accuracy: 0.7130\n",
            "Epoch 7/100\n",
            "115/115 [==============================] - 1s 8ms/step - loss: 0.4725 - accuracy: 0.7712 - val_loss: 0.4194 - val_accuracy: 0.8261\n",
            "Epoch 8/100\n",
            "115/115 [==============================] - 1s 6ms/step - loss: 0.4023 - accuracy: 0.8257 - val_loss: 0.4897 - val_accuracy: 0.7739\n",
            "Epoch 9/100\n",
            "115/115 [==============================] - 1s 6ms/step - loss: 0.3345 - accuracy: 0.8845 - val_loss: 0.4298 - val_accuracy: 0.8174\n",
            "Epoch 10/100\n",
            "115/115 [==============================] - 1s 7ms/step - loss: 0.4317 - accuracy: 0.8105 - val_loss: 0.3029 - val_accuracy: 0.9043\n",
            "Epoch 11/100\n",
            "115/115 [==============================] - 1s 7ms/step - loss: 0.3660 - accuracy: 0.8736 - val_loss: 0.4995 - val_accuracy: 0.7652\n",
            "Epoch 12/100\n",
            "115/115 [==============================] - 1s 7ms/step - loss: 0.3582 - accuracy: 0.8606 - val_loss: 0.3380 - val_accuracy: 0.8783\n"
          ]
        }
      ],
      "source": [
        "ann = tf.keras.Sequential(\n",
        "[\n",
        "  Conv2D(32, (3, 3), activation='relu', input_shape=(370, 5, 5)),\n",
        "  MaxPooling2D(2, 2),\n",
        "\n",
        "  Flatten(),\n",
        "\n",
        "  Reshape((1, 5888)),\n",
        "\n",
        "  LSTM(100, input_shape=(1, 32)),\n",
        "  # Dropout(0.3),\n",
        "\n",
        "  Dense(units=128, activation='sigmoid'),\n",
        "  Dropout(0.3),\n",
        "\n",
        "  Dense(units=64, activation='sigmoid'),\n",
        "  Dropout(0.3),\n",
        "  Dense(units=32, activation='sigmoid'),\n",
        "  Dropout(0.5),\n",
        "  Dense(units=1, activation='sigmoid')\n",
        "]\n",
        ")\n",
        "\n",
        "callback = tf.keras.callbacks.EarlyStopping(monitor='loss', patience=3)\n",
        "ann.compile(optimizer = tf.keras.optimizers.Adam(learning_rate=0.001), loss = 'BinaryCrossentropy', metrics = ['accuracy'])\n",
        "history = ann.fit(X_train, y_train, batch_size = 4 ,callbacks = [callback], epochs = 100, validation_data=(X_test, y_test))"
      ]
    },
    {
      "cell_type": "markdown",
      "metadata": {
        "id": "5k8j8U6bqKV4"
      },
      "source": [
        "Transfer learning\n"
      ]
    },
    {
      "cell_type": "code",
      "execution_count": null,
      "metadata": {
        "colab": {
          "base_uri": "https://localhost:8080/"
        },
        "id": "52CoyRLpqJ8w",
        "outputId": "d3c958ad-6f75-4c94-a016-f83a2168471d"
      },
      "outputs": [
        {
          "name": "stdout",
          "output_type": "stream",
          "text": [
            "Epoch 1/100\n",
            "122/122 [==============================] - 5s 10ms/step - loss: 0.7245 - accuracy: 0.4497 - val_loss: 0.7001 - val_accuracy: 0.4182\n",
            "Epoch 2/100\n",
            "122/122 [==============================] - 1s 7ms/step - loss: 0.7036 - accuracy: 0.4784 - val_loss: 0.7005 - val_accuracy: 0.4182\n",
            "Epoch 3/100\n",
            "122/122 [==============================] - 1s 8ms/step - loss: 0.6965 - accuracy: 0.5072 - val_loss: 0.6998 - val_accuracy: 0.4182\n",
            "Epoch 4/100\n",
            "122/122 [==============================] - 1s 8ms/step - loss: 0.7001 - accuracy: 0.5359 - val_loss: 0.7001 - val_accuracy: 0.4182\n",
            "Epoch 5/100\n",
            "122/122 [==============================] - 1s 8ms/step - loss: 0.6919 - accuracy: 0.5318 - val_loss: 0.7000 - val_accuracy: 0.4182\n",
            "Epoch 6/100\n",
            "122/122 [==============================] - 1s 9ms/step - loss: 0.6977 - accuracy: 0.5051 - val_loss: 0.7030 - val_accuracy: 0.4182\n",
            "Epoch 7/100\n",
            "122/122 [==============================] - 1s 8ms/step - loss: 0.6975 - accuracy: 0.4867 - val_loss: 0.7039 - val_accuracy: 0.4182\n",
            "Epoch 8/100\n",
            "122/122 [==============================] - 1s 8ms/step - loss: 0.6935 - accuracy: 0.5195 - val_loss: 0.6981 - val_accuracy: 0.4182\n"
          ]
        }
      ],
      "source": [
        "ann2 = ann\n",
        "ann2.layers[0].trainable = False\n",
        "# ann2.layers[1].trainable = False\n",
        "# # ann2.layers[4].trainable = False\n",
        "# ann2.layers[5].trainable = False\n",
        "\n",
        "\n",
        "# ann2.compile(optimizer = tf.keras.optimizers.Adam(learning_rate=0.001), loss = 'BinaryCrossentropy', metrics = ['accuracy'])\n",
        "# history = ann2.fit(X_train_, y_train_, epochs=30, batch_size=4, validation_data=[X_test_, y_test_])\n",
        "callback = tf.keras.callbacks.EarlyStopping(monitor='loss', patience=3)\n",
        "ann2.compile(optimizer = tf.keras.optimizers.Adam(learning_rate=0.001), loss = 'BinaryCrossentropy', metrics = ['accuracy'])\n",
        "history = ann2.fit(X_train_, y_train_, batch_size = 4 ,callbacks = [callback], epochs = 100, validation_data=(X_test_, y_test_))"
      ]
    },
    {
      "cell_type": "code",
      "execution_count": null,
      "metadata": {
        "colab": {
          "base_uri": "https://localhost:8080/",
          "height": 462
        },
        "id": "vW5jVS9BW8vw",
        "outputId": "10219faa-673c-44ca-f82e-e3615eddd24e"
      },
      "outputs": [
        {
          "data": {
            "text/plain": [
              "[<matplotlib.lines.Line2D at 0x7dc25216e0e0>]"
            ]
          },
          "execution_count": 65,
          "metadata": {},
          "output_type": "execute_result"
        },
        {
          "data": {
            "image/png": "[encoded data removed]",
            "text/plain": [
              "<Figure size 2000x500 with 2 Axes>"
            ]
          },
          "metadata": {},
          "output_type": "display_data"
        }
      ],
      "source": [
        "fig, axis = plt.subplots(1, 2, figsize=(20,5))\n",
        "\n",
        "axis[0].plot(history.history['accuracy'])\n",
        "axis[0].plot(history.history['loss'])\n",
        "\n",
        "axis[1].plot(history.history['val_accuracy'])\n",
        "axis[1].plot(history.history['val_loss'])"
      ]
    },
    {
      "cell_type": "code",
      "execution_count": null,
      "metadata": {
        "colab": {
          "base_uri": "https://localhost:8080/"
        },
        "id": "bFI4ddRwXFxV",
        "outputId": "5505a8f0-273f-4982-9a64-8db908139af0"
      },
      "outputs": [
        {
          "name": "stdout",
          "output_type": "stream",
          "text": [
            "4/4 [==============================] - 1s 5ms/step\n",
            "Best Threshold=0.741540, F-Score=0.900\n"
          ]
        }
      ],
      "source": [
        "from sklearn.metrics import precision_recall_curve\n",
        "from numpy import argmax\n",
        "\n",
        "preds = ann.predict(X_test)       #อย่าลืมเปลี่ยนชื่อ model\n",
        "\n",
        "precision, recall, thresholds = precision_recall_curve(y_test, preds)\n",
        "\n",
        "\n",
        "fscore = (2 * precision * recall) / (precision + recall)\n",
        "\n",
        "ix = argmax(fscore)\n",
        "print('Best Threshold=%f, F-Score=%.3f' % (thresholds[ix], fscore[ix]))"
      ]
    },
    {
      "cell_type": "code",
      "execution_count": null,
      "metadata": {
        "colab": {
          "base_uri": "https://localhost:8080/"
        },
        "id": "jtjjkY6wXHzQ",
        "outputId": "83119bb5-ab56-4869-ef7c-add414db6962"
      },
      "outputs": [
        {
          "name": "stdout",
          "output_type": "stream",
          "text": [
            "4/4 [==============================] - 0s 8ms/step\n"
          ]
        }
      ],
      "source": [
        "y_pred_test = ann.predict(X_test)        #อย่าลืมเปลี่ยนชื่อ model\n",
        "y_pred_test = (y_pred_test > thresholds[ix])\n",
        "\n",
        "# y_pred_val = ann.predict(X_validation)\n",
        "# y_pred_val = (y_pred_val > 0.698066)"
      ]
    },
    {
      "cell_type": "code",
      "execution_count": null,
      "metadata": {
        "colab": {
          "base_uri": "https://localhost:8080/"
        },
        "id": "_66fbXWnXJC1",
        "outputId": "ae0c547e-d248-4141-f899-d87506abcad4"
      },
      "outputs": [
        {
          "name": "stdout",
          "output_type": "stream",
          "text": [
            "[[38  7]\n",
            " [ 8 62]]\n",
            "Accuracy:  0.8695652173913043\n",
            "Precision:  0.8985507246376812\n",
            "Recall:  0.8857142857142857\n"
          ]
        }
      ],
      "source": [
        "cm = confusion_matrix(y_test, y_pred_test)\n",
        "print(cm)\n",
        "print(\"Accuracy: \", accuracy_score(y_test, y_pred_test))\n",
        "print(\"Precision: \", precision_score(y_test, y_pred_test))\n",
        "print(\"Recall: \", recall_score(y_test, y_pred_test))"
      ]
    },
    {
      "cell_type": "code",
      "execution_count": null,
      "metadata": {
        "colab": {
          "base_uri": "https://localhost:8080/",
          "height": 448
        },
        "id": "SIGJZ7xOXNqT",
        "outputId": "94a6c67b-f70d-413c-f901-57b055b1e8b1"
      },
      "outputs": [
        {
          "data": {
            "text/plain": [
              "<Axes: >"
            ]
          },
          "execution_count": 44,
          "metadata": {},
          "output_type": "execute_result"
        },
        {
          "data": {
            "image/png": "[encoded data removed]",
            "text/plain": [
              "<Figure size 640x480 with 2 Axes>"
            ]
          },
          "metadata": {},
          "output_type": "display_data"
        }
      ],
      "source": [
        "sns.heatmap(cm, annot = True)"
      ]
    },
    {
      "cell_type": "markdown",
      "metadata": {
        "id": "ZEetDVlN8sJL"
      },
      "source": [
        "##Test"
      ]
    },
    {
      "cell_type": "code",
      "execution_count": null,
      "metadata": {
        "id": "_U0CH-Vk8xGg"
      },
      "outputs": [],
      "source": [
        "def get_data(filePath):\n",
        "  with open(filePath) as csv_file:\n",
        "    array = np.loadtxt(csv_file, delimiter = \",\")\n",
        "  x = [i[0] for i in array]\n",
        "  y1 = [i[1] for i in array]\n",
        "  y2 = [i[2] for i in array]\n",
        "  y3 = [i[3] for i in array]\n",
        "  y4 = [i[4] for i in array]\n",
        "  y5 = [i[5] for i in array]\n",
        "  r = (len(x)+1)/6\n",
        "  #x_t = x[:int(r)]\n",
        "  i = 0\n",
        "  y1_t = []\n",
        "  y2_t = []\n",
        "  y3_t = []\n",
        "  y4_t = []\n",
        "  y5_t = []\n",
        "  while(i < len(x)):\n",
        "    if (i==0): # ตัด 399 ตัวแรก\n",
        "      y1_t.append(y1[int(i):int(i+r-1)])\n",
        "      y2_t.append(y2[int(i):int(i+r-1)])\n",
        "      y3_t.append(y3[int(i):int(i+r-1)])\n",
        "      y4_t.append(y4[int(i):int(i+r-1)])\n",
        "      y5_t.append(y5[int(i):int(i+r-1)])\n",
        "      i+=(r-1)\n",
        "    else: # ตัดทีละ 400 ตัว ในแต่ละ Temp\n",
        "      y1_t.append(y1[int(i):int(i+r)])\n",
        "      y2_t.append(y2[int(i):int(i+r)])\n",
        "      y3_t.append(y3[int(i):int(i+r)])\n",
        "      y4_t.append(y4[int(i):int(i+r)])\n",
        "      y5_t.append(y5[int(i):int(i+r)])\n",
        "      i+=r\n",
        "  # print(len(y1_t))\n",
        "  y1_t = y1_t[1:]\n",
        "  y2_t = y2_t[1:]\n",
        "  y3_t = y3_t[1:]\n",
        "  y4_t = y4_t[1:]\n",
        "  y5_t = y5_t[1:]\n",
        "  # print(len(y1_t))\n",
        "\n",
        "  return [y1_t, y2_t, y3_t, y4_t, y5_t]"
      ]
    },
    {
      "cell_type": "code",
      "execution_count": null,
      "metadata": {
        "colab": {
          "base_uri": "https://localhost:8080/"
        },
        "id": "_OqNn42083Wt",
        "outputId": "c4e415ff-7d76-4f0d-deb0-bcc4e6879ea4"
      },
      "outputs": [
        {
          "name": "stdout",
          "output_type": "stream",
          "text": [
            "13 , 13\n"
          ]
        }
      ],
      "source": [
        "path_B1 = '/content/drive/MyDrive/Dinsaw/AI nose data/Test/BreastCancer/'\n",
        "fNameCn_1 = os.listdir(path_B1)\n",
        "path_N1 = '/content/drive/MyDrive/Dinsaw/AI nose data/Test/Normal/'\n",
        "fNameNm_1 = os.listdir(path_N1)\n",
        "print(len(fNameCn_1) , \",\", len(fNameNm_1))"
      ]
    },
    {
      "cell_type": "code",
      "execution_count": null,
      "metadata": {
        "colab": {
          "base_uri": "https://localhost:8080/"
        },
        "id": "0qzcnFj5sxzi",
        "outputId": "783d339a-e0a9-4139-870b-ab7d38d503a2"
      },
      "outputs": [
        {
          "name": "stdout",
          "output_type": "stream",
          "text": [
            "267 , 280\n"
          ]
        }
      ],
      "source": [
        "path_B1 = '/content/drive/MyDrive/Dinsaw/Dinsow/Cancer/'\n",
        "fNameCn_1 = os.listdir(path_B1)\n",
        "path_N1 = '/content/drive/MyDrive/Dinsaw/data/Normal/'\n",
        "fNameNm_1 = os.listdir(path_N1)\n",
        "print(len(fNameCn_1) , \",\", len(fNameNm_1))"
      ]
    },
    {
      "cell_type": "code",
      "execution_count": null,
      "metadata": {
        "colab": {
          "base_uri": "https://localhost:8080/"
        },
        "id": "Y-KA4Pr5Mphw",
        "outputId": "ffead12d-cc61-4c70-b350-ffdbc521202a"
      },
      "outputs": [
        {
          "name": "stdout",
          "output_type": "stream",
          "text": [
            "60\n"
          ]
        }
      ],
      "source": [
        "ai_nose = '/content/drive/MyDrive/Dinsaw/ai-enose_27-07-2023/'\n",
        "fNameCn_1_ = os.listdir(ai_nose)\n",
        "print(len(fNameCn_1_))"
      ]
    },
    {
      "cell_type": "code",
      "execution_count": null,
      "metadata": {
        "id": "gUuUgTFxNEZo"
      },
      "outputs": [],
      "source": [
        "ai_nose_list = []\n",
        "for fN in fNameCn_1_:\n",
        "  ai_nose_list.append(get_data(ai_nose + fN))"
      ]
    },
    {
      "cell_type": "code",
      "execution_count": null,
      "metadata": {
        "id": "t1Rj1KEq85ih"
      },
      "outputs": [],
      "source": [
        "cy_list_ = []\n",
        "for fN in fNameCn_1:\n",
        "  cy_list_.append(get_data(path_B1 + fN))\n",
        "\n",
        "ny_list_ = []\n",
        "for fN in fNameNm_1:\n",
        "  ny_list_.append(get_data(path_N1 + fN))"
      ]
    },
    {
      "cell_type": "code",
      "execution_count": null,
      "metadata": {
        "id": "CrA-D0JucUFT"
      },
      "outputs": [],
      "source": [
        "cy_list_ = ny_test\n",
        "ny_list_ = ny_test"
      ]
    },
    {
      "cell_type": "code",
      "execution_count": null,
      "metadata": {
        "id": "uvm9hM3I9Dvm"
      },
      "outputs": [],
      "source": [
        "def Average(lst):\n",
        "    return sum(lst) / len(lst)\n",
        "\n",
        "def Average_p(x,r):\n",
        "  output = []\n",
        "  for i in range(r,len(x)-r):\n",
        "    output.append(Average(x[(i-r):(i+r)]))\n",
        "  return output"
      ]
    },
    {
      "cell_type": "code",
      "execution_count": null,
      "metadata": {
        "id": "UX9ITIkS89__"
      },
      "outputs": [],
      "source": [
        "def average_data(input,avr):\n",
        "  output = []\n",
        "  for row in input:\n",
        "    otemp = []\n",
        "    for sensor in row:\n",
        "      otemp_sensor = []\n",
        "      for termal in sensor:\n",
        "        otemp_sensor.append(Average_p(termal,avr))\n",
        "      otemp.append(otemp_sensor)\n",
        "    output.append(otemp)\n",
        "  return output"
      ]
    },
    {
      "cell_type": "code",
      "execution_count": null,
      "metadata": {
        "id": "5mu5m-9Z9GFp"
      },
      "outputs": [],
      "source": [
        "avr_r = 15\n",
        "avg_ny_list_ = average_data(ny_list_,avr_r)\n",
        "avg_cy_list_ = average_data(cy_list_,avr_r)"
      ]
    },
    {
      "cell_type": "code",
      "execution_count": null,
      "metadata": {
        "id": "dv-rnsHGNg2J"
      },
      "outputs": [],
      "source": [
        "avr_r = 15\n",
        "avg_nose_list_ = average_data(ai_nose_list,avr_r)"
      ]
    },
    {
      "cell_type": "code",
      "execution_count": null,
      "metadata": {
        "id": "TbUiTCH8lmZs"
      },
      "outputs": [],
      "source": [
        "def StandardNorm(data_inp):\n",
        "  data_shape = np.array(data_inp).shape\n",
        "  reshaped_data = np.array(data_inp).reshape((-1, data_shape[-1]))\n",
        "\n",
        "  mean = np.mean(reshaped_data, axis=0)\n",
        "  std = np.std(reshaped_data, axis=0)\n",
        "\n",
        "  normalized_data = (reshaped_data - mean) / std\n",
        "  normalized_data = normalized_data.reshape(data_shape)\n",
        "  return normalized_data\n",
        "\n",
        "avg_cy_list_norm_ = StandardNorm(avg_cy_list_)\n",
        "avg_ny_list_norm_ = StandardNorm(avg_ny_list_)"
      ]
    },
    {
      "cell_type": "code",
      "execution_count": null,
      "metadata": {
        "id": "yMfVHbviNstc"
      },
      "outputs": [],
      "source": [
        "def StandardNorm(data_inp):\n",
        "  data_shape = np.array(data_inp).shape\n",
        "  reshaped_data = np.array(data_inp).reshape((-1, data_shape[-1]))\n",
        "\n",
        "  mean = np.mean(reshaped_data, axis=0)\n",
        "  std = np.std(reshaped_data, axis=0)\n",
        "\n",
        "  normalized_data = (reshaped_data - mean) / std\n",
        "  normalized_data = normalized_data.reshape(data_shape)\n",
        "  return normalized_data\n",
        "\n",
        "avg_nose_list_norm_ = StandardNorm(avg_nose_list_)"
      ]
    },
    {
      "cell_type": "code",
      "execution_count": null,
      "metadata": {
        "id": "DDOKDGTPfBfk"
      },
      "outputs": [],
      "source": [
        "avg_cy_list_norm_ = avg_cy_list_\n",
        "avg_ny_list_norm_ = avg_ny_list_"
      ]
    },
    {
      "cell_type": "code",
      "execution_count": null,
      "metadata": {
        "colab": {
          "base_uri": "https://localhost:8080/"
        },
        "id": "DvthAjVp9Ph7",
        "outputId": "3a9b7de1-445c-49ee-87ff-0c46560c1e09"
      },
      "outputs": [
        {
          "name": "stdout",
          "output_type": "stream",
          "text": [
            "(550, 5, 5, 370)\n"
          ]
        }
      ],
      "source": [
        "allData_ = np.concatenate((avg_cy_list_norm_,avg_ny_list_norm_), axis=0)\n",
        "print(allData_.shape)"
      ]
    },
    {
      "cell_type": "code",
      "execution_count": null,
      "metadata": {
        "id": "uhN1vVOe9S32"
      },
      "outputs": [],
      "source": [
        "def prepareData(allData):\n",
        "    temp0 = []\n",
        "    for i in range(len(allData)):\n",
        "        temp1 = []\n",
        "        for j in range(len(allData[i])):\n",
        "            temp2 = []\n",
        "            for k in range(len(allData[i][j])):\n",
        "                temp3 = []\n",
        "                for l in range(len(allData[i][j][k])):\n",
        "                    temp3.append(np.array(allData[i][j][k][l]).flatten().tolist())\n",
        "                temp2.append(np.array(temp3).flatten().tolist())\n",
        "            temp1.append(temp2)\n",
        "        temp0.append(temp1)\n",
        "    return temp0\n",
        "\n",
        "data_ = prepareData(allData_)\n",
        "# print(len(data))\n",
        "# print(len(data[0]))\n",
        "# print(len(data[0][0]))\n",
        "# print(len(data[0][0][4]))"
      ]
    },
    {
      "cell_type": "code",
      "execution_count": null,
      "metadata": {
        "id": "_xIs0MUuX7vs"
      },
      "outputs": [],
      "source": [
        "data_T_ = np.transpose(data_, (0, 3, 1, 2))"
      ]
    },
    {
      "cell_type": "code",
      "execution_count": null,
      "metadata": {
        "id": "ec0zQ_O9N1mi"
      },
      "outputs": [],
      "source": [
        "def prepareData(allData):\n",
        "    temp0 = []\n",
        "    for i in range(len(allData)):\n",
        "        temp1 = []\n",
        "        for j in range(len(allData[i])):\n",
        "            temp2 = []\n",
        "            for k in range(len(allData[i][j])):\n",
        "                temp3 = []\n",
        "                for l in range(len(allData[i][j][k])):\n",
        "                    temp3.append(np.array(allData[i][j][k][l]).flatten().tolist())\n",
        "                temp2.append(np.array(temp3).flatten().tolist())\n",
        "            temp1.append(temp2)\n",
        "        temp0.append(temp1)\n",
        "    return temp0\n",
        "\n",
        "data_ = prepareData(avg_nose_list_norm_)\n",
        "# print(len(data))\n",
        "# print(len(data[0]))\n",
        "# print(len(data[0][0]))\n",
        "# print(len(data[0][0][4]))"
      ]
    },
    {
      "cell_type": "code",
      "execution_count": null,
      "metadata": {
        "id": "GbQ2ZfLq9W6R"
      },
      "outputs": [],
      "source": [
        "data_ = np.array(data_T_)\n",
        "# for i in range(len(data)):\n",
        "#   data[i].reshape(data.shape[1], 1)\n",
        "label_ = [] #0: Normal, 1: Cancer\n",
        "for i in range(len(avg_ny_list_norm_)):\n",
        "    label_.append(0)\n",
        "\n",
        "for j in range(len(avg_cy_list_norm_)):\n",
        "    label_.append(1)"
      ]
    },
    {
      "cell_type": "code",
      "execution_count": null,
      "metadata": {
        "colab": {
          "base_uri": "https://localhost:8080/"
        },
        "id": "qS22ub_fuj8Z",
        "outputId": "eb8721cf-95d3-4960-d860-b4f5d4cf2280"
      },
      "outputs": [
        {
          "data": {
            "text/plain": [
              "542"
            ]
          },
          "execution_count": 311,
          "metadata": {},
          "output_type": "execute_result"
        }
      ],
      "source": [
        "len(label_)"
      ]
    },
    {
      "cell_type": "code",
      "execution_count": null,
      "metadata": {
        "colab": {
          "base_uri": "https://localhost:8080/"
        },
        "id": "dlYeleGHsGNZ",
        "outputId": "b80ee124-4cf4-429d-c7c4-1e4550a74ceb"
      },
      "outputs": [
        {
          "name": "stdout",
          "output_type": "stream",
          "text": [
            "(487, 370, 5, 5)\n",
            "(55, 370, 5, 5)\n",
            "(487,)\n",
            "(55,)\n"
          ]
        }
      ],
      "source": [
        "X_train_, X_test_, y_train_, y_test_ = train_test_split(data_, label_, test_size=0.1)\n",
        "X_train_ = np.array(X_train_)\n",
        "X_test_ = np.array(X_test_)\n",
        "y_train_ = np.array(y_train_)\n",
        "y_test_ = np.array(y_test_)\n",
        "\n",
        "print(X_train_.shape)\n",
        "print(X_test_.shape)\n",
        "print(y_train_.shape)\n",
        "print(y_test_.shape)"
      ]
    },
    {
      "cell_type": "code",
      "execution_count": null,
      "metadata": {
        "id": "w0MWrWWu9ZPs"
      },
      "outputs": [],
      "source": [
        "data_T = np.transpose(data, (0, 1, 2, 3))"
      ]
    },
    {
      "cell_type": "code",
      "execution_count": null,
      "metadata": {
        "id": "MJePLhnJ9cFS"
      },
      "outputs": [],
      "source": [
        "data_T_reshape = data_T.reshape(47, 5, 5, 370, 1)"
      ]
    },
    {
      "cell_type": "code",
      "execution_count": null,
      "metadata": {
        "id": "kler1N1TxigL"
      },
      "outputs": [],
      "source": [
        "ann.predict(data_)"
      ]
    },
    {
      "cell_type": "code",
      "execution_count": null,
      "metadata": {
        "colab": {
          "base_uri": "https://localhost:8080/"
        },
        "id": "iRYrdd-b9zrl",
        "outputId": "e1f74dda-cae3-46a4-86e7-8f0251f6d91d"
      },
      "outputs": [
        {
          "name": "stdout",
          "output_type": "stream",
          "text": [
            "18/18 [==============================] - 0s 7ms/step\n",
            "normal   0.6848948\n",
            "normal   0.8924142\n",
            "normal   0.835073\n",
            "normal   0.9293558\n",
            "normal   0.9497587\n",
            "normal   0.8479209\n",
            "normal   0.82743305\n",
            "normal   0.9372339\n",
            "normal   0.73952156\n",
            "normal   0.74088925\n",
            "normal   0.844483\n",
            "normal   0.6643016\n",
            "normal   0.65977836\n",
            "normal   0.6207344\n",
            "normal   0.9244732\n",
            "normal   0.6334444\n",
            "normal   0.94788975\n",
            "normal   0.767556\n",
            "normal   0.6826158\n",
            "normal   0.9104705\n",
            "normal   0.8989349\n",
            "normal   0.90618205\n",
            "normal   0.5485768\n",
            "normal   0.726723\n",
            "normal   0.694839\n",
            "normal   0.64048505\n",
            "normal   0.86732036\n",
            "normal   0.7015065\n",
            "normal   0.85812676\n",
            "normal   0.8287698\n",
            "normal   0.666963\n",
            "normal   0.946355\n",
            "normal   0.50997376\n",
            "normal   0.94451255\n",
            "normal   0.95129025\n",
            "normal   0.9312949\n",
            "normal   0.9512637\n",
            "normal   0.9485545\n",
            "normal   0.94027627\n",
            "normal   0.9506343\n",
            "normal   0.9499722\n",
            "normal   0.94204885\n",
            "normal   0.9506985\n",
            "normal   0.9359086\n",
            "normal   0.9507458\n",
            "normal   0.9396277\n",
            "normal   0.9464778\n",
            "normal   0.6054342\n",
            "normal   0.946591\n",
            "normal   0.9501819\n",
            "normal   0.9507961\n",
            "normal   0.942053\n",
            "normal   0.95030516\n",
            "normal   0.9424592\n",
            "normal   0.93789816\n",
            "normal   0.9374987\n",
            "normal   0.93470424\n",
            "normal   0.93272656\n",
            "normal   0.9509151\n",
            "normal   0.9257401\n",
            "normal   0.9513796\n",
            "normal   0.93539727\n",
            "normal   0.94756156\n",
            "normal   0.94890666\n",
            "normal   0.95163065\n",
            "normal   0.93308336\n",
            "normal   0.86423284\n",
            "normal   0.9484601\n",
            "normal   0.9518194\n",
            "normal   0.9513857\n",
            "normal   0.9327358\n",
            "normal   0.5055789\n",
            "normal   0.9454748\n",
            "normal   0.93892\n",
            "normal   0.9481532\n",
            "normal   0.95005304\n",
            "normal   0.9494735\n",
            "normal   0.95073307\n",
            "normal   0.9516296\n",
            "normal   0.92476237\n",
            "normal   0.9501801\n",
            "normal   0.93786335\n",
            "normal   0.8970263\n",
            "normal   0.9336768\n",
            "normal   0.9503667\n",
            "normal   0.88891894\n",
            "normal   0.95010024\n",
            "normal   0.8941018\n",
            "normal   0.9399404\n",
            "normal   0.93515354\n",
            "normal   0.93219423\n",
            "normal   0.95044696\n",
            "normal   0.65766984\n",
            "normal   0.9510406\n",
            "normal   0.950094\n",
            "normal   0.95108074\n",
            "normal   0.9391428\n",
            "normal   0.94980496\n",
            "normal   0.9271203\n",
            "normal   0.9516992\n",
            "normal   0.9426812\n",
            "normal   0.9499534\n",
            "normal   0.95038474\n",
            "normal   0.95026064\n",
            "normal   0.95076776\n",
            "normal   0.9500762\n",
            "normal   0.9512618\n",
            "normal   0.9501927\n",
            "normal   0.9512273\n",
            "normal   0.95032585\n",
            "normal   0.94361115\n",
            "normal   0.95017385\n",
            "normal   0.917372\n",
            "normal   0.95120627\n",
            "normal   0.9480436\n",
            "normal   0.9501653\n",
            "normal   0.95040286\n",
            "normal   0.9509512\n",
            "normal   0.950545\n",
            "normal   0.9499213\n",
            "normal   0.9510297\n",
            "normal   0.9259583\n",
            "normal   0.9504722\n",
            "normal   0.95086974\n",
            "normal   0.9501008\n",
            "normal   0.95129395\n",
            "normal   0.9503842\n",
            "normal   0.95017636\n",
            "normal   0.9436447\n",
            "normal   0.94943416\n",
            "normal   0.95163316\n",
            "normal   0.9511863\n",
            "normal   0.9451085\n",
            "normal   0.95093936\n",
            "normal   0.9509825\n",
            "normal   0.9509285\n",
            "normal   0.9499384\n",
            "normal   0.93731326\n",
            "normal   0.95024675\n",
            "normal   0.58543956\n",
            "normal   0.75671625\n",
            "normal   0.8669008\n",
            "normal   0.93959856\n",
            "normal   0.7256591\n",
            "normal   0.95161563\n",
            "normal   0.8942645\n",
            "normal   0.91158736\n",
            "normal   0.95154124\n",
            "normal   0.923889\n",
            "normal   0.93530744\n",
            "normal   0.91067314\n",
            "normal   0.9433726\n",
            "normal   0.9257288\n",
            "normal   0.9016957\n",
            "normal   0.7934576\n",
            "normal   0.90579176\n",
            "normal   0.9307642\n",
            "normal   0.8727509\n",
            "normal   0.7356053\n",
            "normal   0.9226051\n",
            "normal   0.9377589\n",
            "normal   0.9482456\n",
            "normal   0.912452\n",
            "normal   0.9513109\n",
            "normal   0.9352085\n",
            "normal   0.8805444\n",
            "normal   0.95157313\n",
            "normal   0.92406076\n",
            "normal   0.92969024\n",
            "normal   0.8628661\n",
            "normal   0.8225752\n",
            "normal   0.88436574\n",
            "cancer   0.10256965\n",
            "normal   0.8893636\n",
            "normal   0.9256902\n",
            "normal   0.9482926\n",
            "normal   0.7097681\n",
            "normal   0.79814106\n",
            "normal   0.8021326\n",
            "normal   0.6327452\n",
            "cancer   0.43047094\n",
            "normal   0.9183439\n",
            "normal   0.8764893\n",
            "normal   0.6311651\n",
            "normal   0.90755254\n",
            "normal   0.9458666\n",
            "normal   0.92039865\n",
            "normal   0.7986827\n",
            "cancer   0.3215972\n",
            "normal   0.8336286\n",
            "cancer   0.43047094\n",
            "normal   0.8738268\n",
            "normal   0.87993133\n",
            "normal   0.6660902\n",
            "normal   0.6962605\n",
            "normal   0.9424538\n",
            "normal   0.9171836\n",
            "normal   0.6673976\n",
            "normal   0.88626856\n",
            "normal   0.7986827\n",
            "normal   0.6716003\n",
            "normal   0.6142856\n",
            "cancer   0.3215972\n",
            "normal   0.78490347\n",
            "normal   0.9083529\n",
            "normal   0.8100004\n",
            "normal   0.78246\n",
            "normal   0.7148607\n",
            "normal   0.77351177\n",
            "normal   0.9493119\n",
            "cancer   0.07901575\n",
            "normal   0.7317677\n",
            "normal   0.6683094\n",
            "normal   0.9332803\n",
            "cancer   0.34976602\n",
            "normal   0.7070288\n",
            "normal   0.91705066\n",
            "normal   0.73439735\n",
            "normal   0.67599857\n",
            "normal   0.84223586\n",
            "cancer   0.34900886\n",
            "normal   0.8602894\n",
            "normal   0.7627834\n",
            "normal   0.6291147\n",
            "normal   0.83796155\n",
            "normal   0.689193\n",
            "normal   0.76666063\n",
            "normal   0.8116794\n",
            "normal   0.89951384\n",
            "normal   0.8096027\n",
            "normal   0.89103264\n",
            "normal   0.70278996\n",
            "normal   0.94643444\n",
            "normal   0.76406133\n",
            "normal   0.91233826\n",
            "normal   0.9332397\n",
            "normal   0.73801666\n",
            "normal   0.9309653\n",
            "normal   0.856807\n",
            "cancer   0.33734626\n",
            "normal   0.8864874\n",
            "normal   0.91155374\n",
            "normal   0.7359041\n",
            "normal   0.8602469\n",
            "normal   0.9362107\n",
            "normal   0.9309653\n",
            "cancer   0.31213045\n",
            "normal   0.76002353\n",
            "cancer   0.37478203\n",
            "normal   0.7080642\n",
            "normal   0.8049363\n",
            "normal   0.7616541\n",
            "normal   0.87832314\n",
            "normal   0.9401216\n",
            "cancer   0.26536074\n",
            "normal   0.9051076\n",
            "normal   0.9312582\n",
            "normal   0.8876214\n",
            "normal   0.589413\n",
            "normal   0.79861\n",
            "cancer   0.1447465\n",
            "normal   0.73516065\n",
            "normal   0.9334177\n",
            "normal   0.94378847\n",
            "normal   0.59055996\n",
            "normal   0.9429847\n",
            "normal   0.8497308\n",
            "normal   0.931964\n",
            "normal   0.87832314\n",
            "normal   0.9383724\n",
            "normal   0.8476609\n",
            "normal   0.78095925\n",
            "normal   0.94799125\n",
            "normal   0.9054391\n",
            "normal   0.8357924\n",
            "normal   0.6848948\n",
            "normal   0.8924142\n",
            "normal   0.835073\n",
            "normal   0.9293558\n",
            "normal   0.9497587\n",
            "normal   0.8479209\n",
            "normal   0.82743305\n",
            "normal   0.9372339\n",
            "normal   0.73952156\n",
            "normal   0.74088925\n",
            "normal   0.844483\n",
            "normal   0.6643016\n",
            "normal   0.65977836\n",
            "normal   0.6207344\n",
            "normal   0.9244732\n",
            "normal   0.6334444\n",
            "normal   0.94788975\n",
            "normal   0.767556\n",
            "normal   0.6826158\n",
            "normal   0.9104705\n",
            "normal   0.8989349\n",
            "normal   0.90618205\n",
            "normal   0.5485768\n",
            "normal   0.726723\n",
            "normal   0.694839\n",
            "normal   0.64048505\n",
            "normal   0.86732036\n",
            "normal   0.7015065\n",
            "normal   0.85812676\n",
            "normal   0.8287698\n",
            "normal   0.666963\n",
            "normal   0.946355\n",
            "normal   0.50997376\n",
            "normal   0.94451255\n",
            "normal   0.95129025\n",
            "normal   0.9312949\n",
            "normal   0.9512637\n",
            "normal   0.9485545\n",
            "normal   0.94027627\n",
            "normal   0.9506343\n",
            "normal   0.9499722\n",
            "normal   0.94204885\n",
            "normal   0.9506985\n",
            "normal   0.9359086\n",
            "normal   0.9507458\n",
            "normal   0.9396277\n",
            "normal   0.9464778\n",
            "normal   0.6054342\n",
            "normal   0.946591\n",
            "normal   0.9501819\n",
            "normal   0.9507961\n",
            "normal   0.942053\n",
            "normal   0.95030516\n",
            "normal   0.9424592\n",
            "normal   0.93789816\n",
            "normal   0.9374987\n",
            "normal   0.93470424\n",
            "normal   0.93272656\n",
            "normal   0.9509151\n",
            "normal   0.9257401\n",
            "normal   0.9513796\n",
            "normal   0.93539727\n",
            "normal   0.94756156\n",
            "normal   0.94890666\n",
            "normal   0.95163065\n",
            "normal   0.93308336\n",
            "normal   0.86423284\n",
            "normal   0.9484601\n",
            "normal   0.9518194\n",
            "normal   0.9513857\n",
            "normal   0.9327358\n",
            "normal   0.5055789\n",
            "normal   0.9454748\n",
            "normal   0.93892\n",
            "normal   0.9481532\n",
            "normal   0.95005304\n",
            "normal   0.9494735\n",
            "normal   0.95073307\n",
            "normal   0.9516296\n",
            "normal   0.92476237\n",
            "normal   0.9501801\n",
            "normal   0.93786335\n",
            "normal   0.8970263\n",
            "normal   0.9336768\n",
            "normal   0.9503667\n",
            "normal   0.88891894\n",
            "normal   0.95010024\n",
            "normal   0.8941018\n",
            "normal   0.9399404\n",
            "normal   0.93515354\n",
            "normal   0.93219423\n",
            "normal   0.95044696\n",
            "normal   0.65766984\n",
            "normal   0.9510406\n",
            "normal   0.950094\n",
            "normal   0.95108074\n",
            "normal   0.9391428\n",
            "normal   0.94980496\n",
            "normal   0.9271203\n",
            "normal   0.9516992\n",
            "normal   0.9426812\n",
            "normal   0.9499534\n",
            "normal   0.95038474\n",
            "normal   0.95026064\n",
            "normal   0.95076776\n",
            "normal   0.9500762\n",
            "normal   0.9512618\n",
            "normal   0.9501927\n",
            "normal   0.9512273\n",
            "normal   0.95032585\n",
            "normal   0.94361115\n",
            "normal   0.95017385\n",
            "normal   0.917372\n",
            "normal   0.95120627\n",
            "normal   0.9480436\n",
            "normal   0.9501653\n",
            "normal   0.95040286\n",
            "normal   0.9509512\n",
            "normal   0.950545\n",
            "normal   0.9499213\n",
            "normal   0.9510297\n",
            "normal   0.9259583\n",
            "normal   0.9504722\n",
            "normal   0.95086974\n",
            "normal   0.9501008\n",
            "normal   0.95129395\n",
            "normal   0.9503842\n",
            "normal   0.95017636\n",
            "normal   0.9436447\n",
            "normal   0.94943416\n",
            "normal   0.95163316\n",
            "normal   0.9511863\n",
            "normal   0.9451085\n",
            "normal   0.95093936\n",
            "normal   0.9509825\n",
            "normal   0.9509285\n",
            "normal   0.9499384\n",
            "normal   0.93731326\n",
            "normal   0.95024675\n",
            "normal   0.58543956\n",
            "normal   0.75671625\n",
            "normal   0.8669008\n",
            "normal   0.93959856\n",
            "normal   0.7256591\n",
            "normal   0.95161563\n",
            "normal   0.8942645\n",
            "normal   0.91158736\n",
            "normal   0.95154124\n",
            "normal   0.923889\n",
            "normal   0.93530744\n",
            "normal   0.91067314\n",
            "normal   0.9433726\n",
            "normal   0.9257288\n",
            "normal   0.9016957\n",
            "normal   0.7934576\n",
            "normal   0.90579176\n",
            "normal   0.9307642\n",
            "normal   0.8727509\n",
            "normal   0.7356053\n",
            "normal   0.9226051\n",
            "normal   0.9377589\n",
            "normal   0.9482456\n",
            "normal   0.912452\n",
            "normal   0.9513109\n",
            "normal   0.9352085\n",
            "normal   0.8805444\n",
            "normal   0.95157313\n",
            "normal   0.92406076\n",
            "normal   0.92969024\n",
            "normal   0.8628661\n",
            "normal   0.8225752\n",
            "normal   0.88436574\n",
            "cancer   0.10256965\n",
            "normal   0.8893636\n",
            "normal   0.9256902\n",
            "normal   0.9482926\n",
            "normal   0.7097681\n",
            "normal   0.79814106\n",
            "normal   0.8021326\n",
            "normal   0.6327452\n",
            "cancer   0.43047094\n",
            "normal   0.9183439\n",
            "normal   0.8764893\n",
            "normal   0.6311651\n",
            "normal   0.90755254\n",
            "normal   0.9458666\n",
            "normal   0.92039865\n",
            "normal   0.7986827\n",
            "cancer   0.3215972\n",
            "normal   0.8336286\n",
            "cancer   0.43047094\n",
            "normal   0.8738268\n",
            "normal   0.87993133\n",
            "normal   0.6660902\n",
            "normal   0.6962605\n",
            "normal   0.9424538\n",
            "normal   0.9171836\n",
            "normal   0.6673976\n",
            "normal   0.88626856\n",
            "normal   0.7986827\n",
            "normal   0.6716003\n",
            "normal   0.6142856\n",
            "cancer   0.3215972\n",
            "normal   0.78490347\n",
            "normal   0.9083529\n",
            "normal   0.8100004\n",
            "normal   0.78246\n",
            "normal   0.7148607\n",
            "normal   0.77351177\n",
            "normal   0.9493119\n",
            "cancer   0.07901575\n",
            "normal   0.7317677\n",
            "normal   0.6683094\n",
            "normal   0.9332803\n",
            "cancer   0.34976602\n",
            "normal   0.7070288\n",
            "normal   0.91705066\n",
            "normal   0.73439735\n",
            "normal   0.67599857\n",
            "normal   0.84223586\n",
            "cancer   0.34900886\n",
            "normal   0.8602894\n",
            "normal   0.7627834\n",
            "normal   0.6291147\n",
            "normal   0.83796155\n",
            "normal   0.689193\n",
            "normal   0.76666063\n",
            "normal   0.8116794\n",
            "normal   0.89951384\n",
            "normal   0.8096027\n",
            "normal   0.89103264\n",
            "normal   0.70278996\n",
            "normal   0.94643444\n",
            "normal   0.76406133\n",
            "normal   0.91233826\n",
            "normal   0.9332397\n",
            "normal   0.73801666\n",
            "normal   0.9309653\n",
            "normal   0.856807\n",
            "cancer   0.33734626\n",
            "normal   0.8864874\n",
            "normal   0.91155374\n",
            "normal   0.7359041\n",
            "normal   0.8602469\n",
            "normal   0.9362107\n",
            "normal   0.9309653\n",
            "cancer   0.31213045\n",
            "normal   0.76002353\n",
            "cancer   0.37478203\n",
            "normal   0.7080642\n",
            "normal   0.8049363\n",
            "normal   0.7616541\n",
            "normal   0.87832314\n",
            "normal   0.9401216\n",
            "cancer   0.26536074\n",
            "normal   0.9051076\n",
            "normal   0.9312582\n",
            "normal   0.8876214\n",
            "normal   0.589413\n",
            "normal   0.79861\n",
            "cancer   0.1447465\n",
            "normal   0.73516065\n",
            "normal   0.9334177\n",
            "normal   0.94378847\n",
            "normal   0.59055996\n",
            "normal   0.9429847\n",
            "normal   0.8497308\n",
            "normal   0.931964\n",
            "normal   0.87832314\n",
            "normal   0.9383724\n",
            "normal   0.8476609\n",
            "normal   0.78095925\n",
            "normal   0.94799125\n",
            "normal   0.9054391\n",
            "normal   0.8357924\n",
            "cancer :  26\n",
            "normal :  524\n"
          ]
        }
      ],
      "source": [
        "cancer = 0\n",
        "normal = 0\n",
        "pred = ann.predict(data_)\n",
        "for i in pred:\n",
        "  if i[0] > thresholds[ix]:\n",
        "    print('normal', \" \" ,i[0])\n",
        "    normal = normal + 1\n",
        "  else:\n",
        "    print('cancer', \" \" ,i[0])\n",
        "    cancer = cancer + 1\n",
        "\n",
        "print(\"cancer : \", cancer)\n",
        "print(\"normal : \", normal)"
      ]
    }
  ],
  "metadata": {
    "accelerator": "GPU",
    "colab": {
      "gpuType": "T4",
      "provenance": []
    },
    "kernelspec": {
      "display_name": "Python 3",
      "name": "python3"
    },
    "language_info": {
      "name": "python"
    }
  },
  "nbformat": 4,
  "nbformat_minor": 0
}
